{
 "cells": [
  {
   "cell_type": "markdown",
   "metadata": {},
   "source": [
    "# Milestone II"
   ]
  },
  {
   "cell_type": "markdown",
   "metadata": {},
   "source": [
    "Project groups will analyze this data to \n",
    "1) *identify inconsistencies and challenges in annotation* as well as to \n",
    "2) *identify groups of synonymous aspects*. \n",
    "\n",
    "The data can be analysed manually, or semi-automatically by calculating and analysing basic data statistics (e.g. label frequencies, aspect frequencies etc.).\n"
   ]
  },
  {
   "cell_type": "markdown",
   "metadata": {},
   "source": [
    "# Milestone III: : automatic sentiment detection (mandatory)"
   ]
  },
  {
   "cell_type": "markdown",
   "metadata": {},
   "source": [
    "Each project group will *create an automatic sentiment detection system* using the annotated data and a text classification method as taught on the course (for example a bag-of-words SVM, but you are free to choose any other classification method as well).\n",
    "\n",
    "The task setting is as follows: given target texts and their right and left contexts, assign each context to one of the sentiment classes (positive, negative, etc.). For example:\n",
    "\n",
    "Left context            Target       Right context                     Sentiment\n",
    "“Minun mielestäni”     “Nordea”      “on ihan hyvä pankki.”            positive\n",
    "“Siirryin”             “Op:sta”      “pois sössimisten vuoksi.”        negative\n",
    "\n",
    "The sentiment detection systems will be evaluated on a held-out portion of the annotated data in terms of their accuracy.\n",
    "\n",
    "We will provide each project group with data for training and evaluating the sentiment detection methods in a simple TSV format.\n"
   ]
  },
  {
   "cell_type": "code",
   "execution_count": 134,
   "metadata": {},
   "outputs": [
    {
     "name": "stdout",
     "output_type": "stream",
     "text": [
      "\n",
      "[{'aspects': ['status'],\n",
      "  'id': 'ajoneuvot00692',\n",
      "  'judgement': ['positive', 'neutral'],\n",
      "  'left context': 'Tämä . BMW provosoi tarpeettomiin ohituksiin . '\n",
      "                  'Liikennevaloissa lähtiessäkin on usein yhden hengen '\n",
      "                  'kiihdytyskisat pystyssä . ',\n",
      "  'right context': ' ratissa ei tarvitse katsella tätä , vaikka ajotyyli ja '\n",
      "                   'nopeus on samoja . Onko tämä sitä kateutta ?',\n",
      "  'target': 'Fordin'},\n",
      " {'aspects': ['auto', 'merkki', 'ääni'],\n",
      "  'id': 'ajoneuvot00697',\n",
      "  'judgement': ['positive', 'positive', 'positive', 'positive'],\n",
      "  'left context': '',\n",
      "  'right context': ' on kyllä upeita . Hyväkuntoiset on vaan aikalailla viety '\n",
      "                   'käsistä . Aika paljon noita myös laitellaan , mutta '\n",
      "                   'hyvällä maulla mielestäni ( motorsport hengessä ) . Olen '\n",
      "                   'ollut parin + 250hp vaparin kyydissä . Suorakutonen laulaa '\n",
      "                   'nätisti 8000rpm .',\n",
      "  'target': 'Zetat'},\n",
      " {'aspects': ['hinta', 'piirteet'],\n",
      "  'id': 'ajoneuvot01589',\n",
      "  'judgement': ['mixed', 'neutral', 'neutral'],\n",
      "  'left context': 'Tässä langassa lienee paras kysyä , mitä tulisi huomioida ',\n",
      "  'right context': ' hankinnassa , niitähän saa jo parilla tonnilla . Ainoat '\n",
      "                   'kriteerit : nahkasisusta , ilmastointi , sedan .',\n",
      "  'target': 'E39 : n'}]\n",
      "[{'mixed': 0, 'negative': 0, 'neutral': 1, 'positive': 1, 'unclear': 0},\n",
      " {'mixed': 0, 'negative': 0, 'neutral': 0, 'positive': 4, 'unclear': 0},\n",
      " {'mixed': 1, 'negative': 0, 'neutral': 2, 'positive': 0, 'unclear': 0},\n",
      " {'mixed': 0, 'negative': 0, 'neutral': 1, 'positive': 3, 'unclear': 0},\n",
      " {'mixed': 0, 'negative': 3, 'neutral': 0, 'positive': 0, 'unclear': 0},\n",
      " {'mixed': 3, 'negative': 0, 'neutral': 0, 'positive': 0, 'unclear': 0},\n",
      " {'mixed': 0, 'negative': 2, 'neutral': 0, 'positive': 0, 'unclear': 0},\n",
      " {'mixed': 0, 'negative': 0, 'neutral': 0, 'positive': 4, 'unclear': 0},\n",
      " {'mixed': 1, 'negative': 0, 'neutral': 0, 'positive': 3, 'unclear': 0},\n",
      " {'mixed': 1, 'negative': 3, 'neutral': 0, 'positive': 0, 'unclear': 0}]\n"
     ]
    }
   ],
   "source": [
    "import csv\n",
    "from pprint import pprint\n",
    "\n",
    "data = []\n",
    "\n",
    "with open(\"combined-sentiment-judgments.tsv\", encoding= 'utf-8') as tsv:\n",
    "    tsvreader = csv.reader(tsv, delimiter= '\\t')   \n",
    "    for line in tsvreader:\n",
    "        # 0:id, 1=judgement, 2=aspects, 3=left, 4= target, 5=right\n",
    "        #print (line)\n",
    "        judg = line[1].split(\",\")\n",
    "        #print(judg)\n",
    "     #\n",
    "        data.append({\"id\":line[0], \"judgement\":judg, \"aspects\":line[2].split(','), \"left context\":line[3], \"target\":line[4], \"right context\":line[5]})\n",
    "#print(evals[:5])\n",
    "print()\n",
    "pprint(data[:3])\n",
    "       \n",
    "counts = []\n",
    "for item in data:\n",
    "    #print(eval)\n",
    "    #count = {\"positive\":0, \"neutral\":0, \"negative\":0, \"mixed\":0, \"unclear\":0, \"total\" :0}\n",
    "    count = {\"positive\":0, \"neutral\":0, \"negative\":0, \"mixed\":0, \"unclear\":0}\n",
    "    for i in item.get('judgement'):\n",
    "        #print(i) \n",
    "        #count[\"total\"] += 1s\n",
    "        if (i == \"mixed\"):\n",
    "            count[\"mixed\"] = count.get(\"mixed\") +1\n",
    "        elif (i == \"unclear\"):\n",
    "            count[\"unclear\"] = count.get(\"unclear\") +1\n",
    "        elif (i == \"positive\"):\n",
    "             count[\"positive\"] = count.get(\"positive\") +1\n",
    "        elif(i == \"neutral\"):\n",
    "            count[\"neutral\"] = count.get(\"neutral\") + 1\n",
    "        elif(i == \"negative\"):\n",
    "             count[\"negative\"] = count.get(\"negative\") +1\n",
    "    counts.append(count)\n",
    "pprint(counts[:10])\n",
    "\n"
   ]
  },
  {
   "cell_type": "code",
   "execution_count": 135,
   "metadata": {},
   "outputs": [
    {
     "name": "stdout",
     "output_type": "stream",
     "text": [
      "[{'mixed': 0.0,\n",
      "  'negative': 0.0,\n",
      "  'neutral': 0.5,\n",
      "  'positive': 0.5,\n",
      "  'unclear': 0.0},\n",
      " {'mixed': 0.0,\n",
      "  'negative': 0.0,\n",
      "  'neutral': 0.0,\n",
      "  'positive': 1.0,\n",
      "  'unclear': 0.0},\n",
      " {'mixed': 0.3333333333333333,\n",
      "  'negative': 0.0,\n",
      "  'neutral': 0.6666666666666666,\n",
      "  'positive': 0.0,\n",
      "  'unclear': 0.0}]\n"
     ]
    }
   ],
   "source": [
    "for count in counts[:10]:\n",
    "    #print(count)\n",
    "    total = sum(count.values())\n",
    "    #print(total) ##check\n",
    "    \n",
    "    for item in count:\n",
    "        #print(item)\n",
    "        pros = count.get(item)/total\n",
    "        #print(pros)\n",
    "        count[item] = pros\n",
    "    #print(count)\n",
    "pprint(counts[:3])"
   ]
  },
  {
   "cell_type": "code",
   "execution_count": 136,
   "metadata": {},
   "outputs": [
    {
     "name": "stdout",
     "output_type": "stream",
     "text": [
      "[{'mixed': 0.0,\n",
      "  'negative': 0.0,\n",
      "  'neutral': 0.5,\n",
      "  'positive': 0.5,\n",
      "  'unclear': 0.0},\n",
      " {'positive': 1.0},\n",
      " {'mixed': 0.3333333333333333,\n",
      "  'negative': 0.0,\n",
      "  'neutral': 0.6666666666666666,\n",
      "  'positive': 0.0,\n",
      "  'unclear': 0.0},\n",
      " {'mixed': 0.0,\n",
      "  'negative': 0.0,\n",
      "  'neutral': 0.25,\n",
      "  'positive': 0.75,\n",
      "  'unclear': 0.0},\n",
      " {'negative': 1.0}]\n"
     ]
    }
   ],
   "source": [
    "evals_with_clears = []\n",
    "for count in counts:\n",
    "    #print(count)\n",
    "    max_key = max(count.items(), key = lambda x :x[1])\n",
    "    #print(max_key)\n",
    "    for value in count.values():\n",
    "        if value == count.get(max_key):\n",
    "            max_key = null\n",
    "            evals_with_clears.append(count)\n",
    "    if (max_key[1]>=1.00):\n",
    "        final_eval = {max_key[0]:max_key[1]}\n",
    "        #print(\"Final label: \",final_eval)\n",
    "        evals_with_clears.append(final_eval)\n",
    "    else:\n",
    "        for key in count.keys():\n",
    "            if count.get(key) > 0:\n",
    "                count_cleaned[key] = count.get(key)\n",
    "        evals_with_clears.append(count)\n",
    "pprint(evals_with_clears[:5])"
   ]
  },
  {
   "cell_type": "code",
   "execution_count": 137,
   "metadata": {},
   "outputs": [
    {
     "name": "stdout",
     "output_type": "stream",
     "text": [
      "{'id': 'ajoneuvot00692', 'judgement': ['positive', 'neutral'], 'aspects': ['status'], 'left context': 'Tämä . BMW provosoi tarpeettomiin ohituksiin . Liikennevaloissa lähtiessäkin on usein yhden hengen kiihdytyskisat pystyssä . ', 'target': 'Fordin', 'right context': ' ratissa ei tarvitse katsella tätä , vaikka ajotyyli ja nopeus on samoja . Onko tämä sitä kateutta ?'}\n",
      "\n",
      "{'id': 'ajoneuvot00697', 'judgement': 'positive', 'aspects': ['auto', 'merkki', 'ääni'], 'left context': '', 'target': 'Zetat', 'right context': ' on kyllä upeita . Hyväkuntoiset on vaan aikalailla viety käsistä . Aika paljon noita myös laitellaan , mutta hyvällä maulla mielestäni ( motorsport hengessä ) . Olen ollut parin + 250hp vaparin kyydissä . Suorakutonen laulaa nätisti 8000rpm .'}\n",
      "\n",
      "{'id': 'ajoneuvot01589', 'judgement': ['mixed', 'neutral', 'neutral'], 'aspects': ['hinta', 'piirteet'], 'left context': 'Tässä langassa lienee paras kysyä , mitä tulisi huomioida ', 'target': 'E39 : n', 'right context': ' hankinnassa , niitähän saa jo parilla tonnilla . Ainoat kriteerit : nahkasisusta , ilmastointi , sedan .'}\n",
      "\n"
     ]
    }
   ],
   "source": [
    "# Asetetaan enemmistö-labelit dataan\n",
    "for i in range(len(data)):\n",
    "    datapoint= data[i]\n",
    "    if len(evals_with_clears[i]) ==1: # vain yksi judg\n",
    "        datapoint['judgement'] = list(evals_with_clears[i])[0] # nyt judgement on osalla lauseista vain yksi str => label\n",
    "sample = data[:3]\n",
    "for item in sample:\n",
    "    print(item)\n",
    "    print()"
   ]
  },
  {
   "cell_type": "code",
   "execution_count": 141,
   "metadata": {},
   "outputs": [
    {
     "name": "stdout",
     "output_type": "stream",
     "text": [
      "train:  929 , dev:  5 , test:  46\n",
      "46\n",
      "[{'id': 'ajoneuvot00692', 'judgement': ['positive', 'neutral'], 'aspects': ['status'], 'left context': 'Tämä . BMW provosoi tarpeettomiin ohituksiin . Liikennevaloissa lähtiessäkin on usein yhden hengen kiihdytyskisat pystyssä . ', 'target': 'Fordin', 'right context': ' ratissa ei tarvitse katsella tätä , vaikka ajotyyli ja nopeus on samoja . Onko tämä sitä kateutta ?'}, {'id': 'ajoneuvot01589', 'judgement': ['mixed', 'neutral', 'neutral'], 'aspects': ['hinta', 'piirteet'], 'left context': 'Tässä langassa lienee paras kysyä , mitä tulisi huomioida ', 'target': 'E39 : n', 'right context': ' hankinnassa , niitähän saa jo parilla tonnilla . Ainoat kriteerit : nahkasisusta , ilmastointi , sedan .'}, {'id': 'ajoneuvot01823', 'judgement': ['positive', 'neutral', 'positive', 'positive'], 'aspects': ['bensankulutus', 'kestävyys', 'kulutus', 'laatu'], 'left context': '', 'target': 'Saab 9000', 'right context': ' 2 . 3literisellä pikkumoottorilla varustettu ydinpommin kestävä ruotsalainen hirvi . Bensaakin syö hyvin vähäisen määrän per 100km'}, {'id': 'ajoneuvot06339', 'judgement': ['mixed', 'positive', 'positive', 'positive'], 'aspects': ['hinta', 'laatu', 'yleinen'], 'left context': 'Clio V6 : n itsekin ostaisin jos sellainen tulisi järkihintaan vastaan . Kun taas ', 'target': 'Mégane RS : ää', 'right context': ' en ostaisi , mutta en myöskään pistäisi pahakseni omistaa moista laitosta .'}, {'id': 'ajoneuvot06674', 'judgement': ['negative', 'negative', 'mixed', 'negative'], 'aspects': ['laatu', 'status', 'status'], 'left context': 'Hymyilin ääneen . Jonnet ja Jonnathan kostuvat näistä . ', 'target': 'Twingolle', 'right context': ' nauravat kaikki , jotka autoista välittävät .'}]\n"
     ]
    }
   ],
   "source": [
    "# jaetaan data datasetteihin\n",
    "clear_labels = ['positive','neutral','negative']\n",
    "train_data =[]\n",
    "dev_data =[]\n",
    "test_data=[]\n",
    "count_unclears = 0\n",
    "for item in data:\n",
    "    #while(len(train_data))\n",
    "    judg = item.get('judgement')\n",
    "    #print(judg)\n",
    "    if type(judg) == str:\n",
    "        if judg == 'unclear' or judg == 'mixed':\n",
    "            count_unclears += 1\n",
    "            test_data.append(item)\n",
    "        elif judg in clear_labels:\n",
    "            #print(judg)\n",
    "            train_data.append(item)\n",
    "    else:\n",
    "        dev_data.append(item)\n",
    "print(\"train: \", len(train_data), \", dev: \", len(dev_data), \", test: \", len(test_data))\n",
    "print(count_unclears)\n",
    "print(dev_data)"
   ]
  },
  {
   "cell_type": "markdown",
   "metadata": {},
   "source": [
    "# Task II: analysis\n",
    "## inconsistencies and challenges in annotation\n",
    "\n",
    "## synonymous aspects"
   ]
  }
 ],
 "metadata": {
  "kernelspec": {
   "display_name": "Python 3",
   "language": "python",
   "name": "python3"
  },
  "language_info": {
   "codemirror_mode": {
    "name": "ipython",
    "version": 3
   },
   "file_extension": ".py",
   "mimetype": "text/x-python",
   "name": "python",
   "nbconvert_exporter": "python",
   "pygments_lexer": "ipython3",
   "version": "3.7.1"
  }
 },
 "nbformat": 4,
 "nbformat_minor": 2
}
