{
  "nbformat": 4,
  "nbformat_minor": 0,
  "metadata": {
    "kernelspec": {
      "display_name": "Python 3",
      "language": "python",
      "name": "python3"
    },
    "language_info": {
      "codemirror_mode": {
        "name": "ipython",
        "version": 3
      },
      "file_extension": ".py",
      "mimetype": "text/x-python",
      "name": "python",
      "nbconvert_exporter": "python",
      "pygments_lexer": "ipython3",
      "version": "3.7.1"
    },
    "colab": {
      "name": "NLP_project_sentiment_detector.ipynb",
      "provenance": [],
      "toc_visible": true
    }
  },
  "cells": [
    {
      "cell_type": "markdown",
      "metadata": {
        "id": "o5uqpfxlNhiE",
        "colab_type": "text"
      },
      "source": [
        "# Milestone II\n",
        "\n",
        "Project groups will analyze this data to 1) identify inconsistencies and challenges in annotation as well as to 2) identify groups of synonymous aspects.\n",
        "\n",
        "The data can be analysed manually, or semi-automatically by calculating and analysing basic data statistics (e.g. label frequencies, aspect frequencies etc.)."
      ]
    },
    {
      "cell_type": "code",
      "metadata": {
        "id": "-79rM-7eNhiO",
        "colab_type": "code",
        "outputId": "c0bd9ef4-00ed-4795-f45f-b5f86f80825d",
        "colab": {
          "base_uri": "https://localhost:8080/",
          "height": 663
        }
      },
      "source": [
        "import csv\n",
        "from pprint import pprint\n",
        "\n",
        "data = []\n",
        "\n",
        "with open(\"combined-sentiment-judgments.tsv\", encoding= 'utf-8') as tsv:\n",
        "    tsvreader = csv.reader(tsv, delimiter= '\\t')   \n",
        "    for line in tsvreader:\n",
        "        # 0:id, 1=judgement, 2=aspects, 3=left, 4= target, 5=right\n",
        "        #print (line)\n",
        "        judg = line[1].split(\",\")\n",
        "        #print(judg)\n",
        "     #\n",
        "        data.append({\"id\":line[0], \"judgement\":judg, \"aspects\":line[2].split(','), \"left context\":line[3], \"target\":line[4], \"right context\":line[5]})\n",
        "#print(evals[:5])\n",
        "print()\n",
        "print(len(data))\n",
        "pprint(data[:3])\n",
        "       \n",
        "counts = []\n",
        "for item in data:\n",
        "    #print(eval)\n",
        "    #count = {\"positive\":0, \"neutral\":0, \"negative\":0, \"mixed\":0, \"unclear\":0, \"total\" :0}\n",
        "    count = {\"positive\":0, \"neutral\":0, \"negative\":0, \"mixed\":0, \"unclear\":0}\n",
        "    for i in item.get('judgement'):\n",
        "        #print(i) \n",
        "        #count[\"total\"] += 1s\n",
        "        if (i == \"mixed\"):\n",
        "            count[\"mixed\"] = count.get(\"mixed\") +1\n",
        "        elif (i == \"unclear\"):\n",
        "            count[\"unclear\"] = count.get(\"unclear\") +1\n",
        "        elif (i == \"positive\"):\n",
        "             count[\"positive\"] = count.get(\"positive\") +1\n",
        "        elif(i == \"neutral\"):\n",
        "            count[\"neutral\"] = count.get(\"neutral\") + 1\n",
        "        elif(i == \"negative\"):\n",
        "             count[\"negative\"] = count.get(\"negative\") +1\n",
        "    counts.append(count)\n",
        "pprint(counts[:10])\n",
        "\n"
      ],
      "execution_count": 20,
      "outputs": [
        {
          "output_type": "stream",
          "text": [
            "\n",
            "980\n",
            "[{'aspects': ['status'],\n",
            "  'id': 'ajoneuvot00692',\n",
            "  'judgement': ['positive', 'neutral'],\n",
            "  'left context': 'Tämä . BMW provosoi tarpeettomiin ohituksiin . '\n",
            "                  'Liikennevaloissa lähtiessäkin on usein yhden hengen '\n",
            "                  'kiihdytyskisat pystyssä . ',\n",
            "  'right context': ' ratissa ei tarvitse katsella tätä , vaikka ajotyyli ja '\n",
            "                   'nopeus on samoja . Onko tämä sitä kateutta ?',\n",
            "  'target': 'Fordin'},\n",
            " {'aspects': ['auto', 'merkki', 'ääni'],\n",
            "  'id': 'ajoneuvot00697',\n",
            "  'judgement': ['positive', 'positive', 'positive', 'positive'],\n",
            "  'left context': '',\n",
            "  'right context': ' on kyllä upeita . Hyväkuntoiset on vaan aikalailla viety '\n",
            "                   'käsistä . Aika paljon noita myös laitellaan , mutta '\n",
            "                   'hyvällä maulla mielestäni ( motorsport hengessä ) . Olen '\n",
            "                   'ollut parin + 250hp vaparin kyydissä . Suorakutonen laulaa '\n",
            "                   'nätisti 8000rpm .',\n",
            "  'target': 'Zetat'},\n",
            " {'aspects': ['hinta', 'piirteet'],\n",
            "  'id': 'ajoneuvot01589',\n",
            "  'judgement': ['mixed', 'neutral', 'neutral'],\n",
            "  'left context': 'Tässä langassa lienee paras kysyä , mitä tulisi huomioida ',\n",
            "  'right context': ' hankinnassa , niitähän saa jo parilla tonnilla . Ainoat '\n",
            "                   'kriteerit : nahkasisusta , ilmastointi , sedan .',\n",
            "  'target': 'E39 : n'}]\n",
            "[{'mixed': 0, 'negative': 0, 'neutral': 1, 'positive': 1, 'unclear': 0},\n",
            " {'mixed': 0, 'negative': 0, 'neutral': 0, 'positive': 4, 'unclear': 0},\n",
            " {'mixed': 1, 'negative': 0, 'neutral': 2, 'positive': 0, 'unclear': 0},\n",
            " {'mixed': 0, 'negative': 0, 'neutral': 1, 'positive': 3, 'unclear': 0},\n",
            " {'mixed': 0, 'negative': 3, 'neutral': 0, 'positive': 0, 'unclear': 0},\n",
            " {'mixed': 3, 'negative': 0, 'neutral': 0, 'positive': 0, 'unclear': 0},\n",
            " {'mixed': 0, 'negative': 2, 'neutral': 0, 'positive': 0, 'unclear': 0},\n",
            " {'mixed': 0, 'negative': 0, 'neutral': 0, 'positive': 4, 'unclear': 0},\n",
            " {'mixed': 1, 'negative': 0, 'neutral': 0, 'positive': 3, 'unclear': 0},\n",
            " {'mixed': 1, 'negative': 3, 'neutral': 0, 'positive': 0, 'unclear': 0}]\n"
          ],
          "name": "stdout"
        }
      ]
    },
    {
      "cell_type": "code",
      "metadata": {
        "id": "uoB5dgGNNhiZ",
        "colab_type": "code",
        "outputId": "2861c6ed-7fb3-4fdb-d3b9-3f4486f3d712",
        "colab": {
          "base_uri": "https://localhost:8080/",
          "height": 272
        }
      },
      "source": [
        "for count in counts[:10]:\n",
        "    #print(count)\n",
        "    total = sum(count.values())\n",
        "    #print(total) ##check\n",
        "    \n",
        "    for item in count:\n",
        "        #print(item)\n",
        "        pros = count.get(item)/total\n",
        "        #print(pros)\n",
        "        count[item] = pros\n",
        "    #print(count)\n",
        "pprint(counts[:3])"
      ],
      "execution_count": 21,
      "outputs": [
        {
          "output_type": "stream",
          "text": [
            "[{'mixed': 0.0,\n",
            "  'negative': 0.0,\n",
            "  'neutral': 0.5,\n",
            "  'positive': 0.5,\n",
            "  'unclear': 0.0},\n",
            " {'mixed': 0.0,\n",
            "  'negative': 0.0,\n",
            "  'neutral': 0.0,\n",
            "  'positive': 1.0,\n",
            "  'unclear': 0.0},\n",
            " {'mixed': 0.3333333333333333,\n",
            "  'negative': 0.0,\n",
            "  'neutral': 0.6666666666666666,\n",
            "  'positive': 0.0,\n",
            "  'unclear': 0.0}]\n"
          ],
          "name": "stdout"
        }
      ]
    },
    {
      "cell_type": "code",
      "metadata": {
        "id": "wwvlsqMwNhig",
        "colab_type": "code",
        "colab": {
          "base_uri": "https://localhost:8080/",
          "height": 204
        },
        "outputId": "21a46cc6-cdc5-4dbd-ec59-fb8899cc0460"
      },
      "source": [
        "judg_list = []\n",
        "\n",
        "for count in counts:\n",
        "    #print(count)\n",
        "    max_key = max(count.items(), key = lambda x :x[1])\n",
        "    keys = list(count.keys())\n",
        "    values = list(count.values())\n",
        "    #print(max_key)\n",
        "    for value in values:\n",
        "        if value == count.get(max_key): ## check for 50/50 and other evenly dispersed cases\n",
        "            max_key = null\n",
        "    if (max_key[1]>=0.66):\n",
        "        final_eval = max_key[0]\n",
        "        #print(\"Final label: \",final_eval)\n",
        "        judg_list.append(final_eval)\n",
        "    else:\n",
        "        multi = []\n",
        "        for key in keys:\n",
        "            if count.get(key) > 0:\n",
        "                multi.append([key,count.get(key)])\n",
        "        judg_list.append(multi)\n",
        "pprint(judg_list[:10])\n",
        "print(len(judg_list))"
      ],
      "execution_count": 39,
      "outputs": [
        {
          "output_type": "stream",
          "text": [
            "[[['positive', 0.5], ['neutral', 0.5]],\n",
            " 'positive',\n",
            " 'neutral',\n",
            " 'positive',\n",
            " 'negative',\n",
            " 'mixed',\n",
            " 'negative',\n",
            " 'positive',\n",
            " 'positive',\n",
            " 'negative']\n",
            "980\n"
          ],
          "name": "stdout"
        }
      ]
    },
    {
      "cell_type": "code",
      "metadata": {
        "id": "nLgMYdAcNhik",
        "colab_type": "code",
        "colab": {
          "base_uri": "https://localhost:8080/",
          "height": 139
        },
        "outputId": "f1c6bee2-8f14-4e2d-9c2a-c233257f8e39"
      },
      "source": [
        "# Asetetaan enemmistö-labelit dataan\n",
        "for i in range(len(data)):\n",
        "    datapoint= data[i]\n",
        "    if len(judg_list[i]) ==1: # vain yksi judg\n",
        "        datapoint['judgement'] = judg_list[i][0] # nyt judgement on osalla lauseista vain yksi str => label\n",
        "    else:\n",
        "        datapoint['judgement'] = judg_list[i]\n",
        "sample = data[:3]\n",
        "for item in sample:\n",
        "    print(item)\n",
        "    print()"
      ],
      "execution_count": 40,
      "outputs": [
        {
          "output_type": "stream",
          "text": [
            "{'id': 'ajoneuvot00692', 'judgement': [['positive', 0.5], ['neutral', 0.5]], 'aspects': ['status'], 'left context': 'Tämä . BMW provosoi tarpeettomiin ohituksiin . Liikennevaloissa lähtiessäkin on usein yhden hengen kiihdytyskisat pystyssä . ', 'target': 'Fordin', 'right context': ' ratissa ei tarvitse katsella tätä , vaikka ajotyyli ja nopeus on samoja . Onko tämä sitä kateutta ?'}\n",
            "\n",
            "{'id': 'ajoneuvot00697', 'judgement': 'positive', 'aspects': ['auto', 'merkki', 'ääni'], 'left context': '', 'target': 'Zetat', 'right context': ' on kyllä upeita . Hyväkuntoiset on vaan aikalailla viety käsistä . Aika paljon noita myös laitellaan , mutta hyvällä maulla mielestäni ( motorsport hengessä ) . Olen ollut parin + 250hp vaparin kyydissä . Suorakutonen laulaa nätisti 8000rpm .'}\n",
            "\n",
            "{'id': 'ajoneuvot01589', 'judgement': 'neutral', 'aspects': ['hinta', 'piirteet'], 'left context': 'Tässä langassa lienee paras kysyä , mitä tulisi huomioida ', 'target': 'E39 : n', 'right context': ' hankinnassa , niitähän saa jo parilla tonnilla . Ainoat kriteerit : nahkasisusta , ilmastointi , sedan .'}\n",
            "\n"
          ],
          "name": "stdout"
        }
      ]
    },
    {
      "cell_type": "code",
      "metadata": {
        "id": "cCVSZ3cGNhio",
        "colab_type": "code",
        "colab": {
          "base_uri": "https://localhost:8080/",
          "height": 51
        },
        "outputId": "8e9ded68-c3bf-46ad-8f35-ec4de878f1c7"
      },
      "source": [
        "# let's divide dat into a train/dev/test batches by amount of labels first\n",
        "clear_labels = ['positive','neutral','negative']\n",
        "train_data =[]\n",
        "dev_data =[]\n",
        "test_data=[]\n",
        "count_unclears = 0\n",
        "for item in data:\n",
        "    #while(len(train_data))\n",
        "    judg = item.get('judgement')\n",
        "    #print(judg)\n",
        "    if type(judg) == str:\n",
        "        if judg == 'unclear' or judg == 'mixed':\n",
        "            count_unclears += 1\n",
        "            test_data.append(item)\n",
        "        elif judg in clear_labels:\n",
        "            #print(judg)\n",
        "            train_data.append(item)\n",
        "    else: \n",
        "        test_data.append(item)\n",
        "print(\"train: \", len(train_data), \", dev: \", len(dev_data), \", test: \", len(test_data))\n",
        "print(count_unclears)\n",
        "#pprint(dev_data)\n",
        "#pprint(test_data)\n"
      ],
      "execution_count": 50,
      "outputs": [
        {
          "output_type": "stream",
          "text": [
            "train:  933 , dev:  0 , test:  47\n",
            "46\n"
          ],
          "name": "stdout"
        }
      ]
    },
    {
      "cell_type": "code",
      "metadata": {
        "id": "kQHTqNeqFKPz",
        "colab_type": "code",
        "colab": {
          "base_uri": "https://localhost:8080/",
          "height": 306
        },
        "outputId": "85426bd4-ab00-4aaf-8d42-10dd0df56cd9"
      },
      "source": [
        "# OK...not very much test data here. Let's make the split 60/20/20 by allocating from train batch to the others while keeping the mixed/unclear/multi in the test batch\n",
        "import random\n",
        "small_size = 0.2*980\n",
        "\n",
        "while len(dev_data) < small_size:\n",
        "    r1 = random.randint(0, len(train_data)-1)\n",
        "    dev_data.append(train_data.pop(r1))\n",
        "    if len(test_data) < small_size:\n",
        "        r2 = random.randint(0, len(train_data)-1)\n",
        "        test_data.append(train_data.pop(r2) ) \n",
        "\n",
        "print(\"train: \", len(train_data), \", dev: \", len(dev_data), \", test: \", len(test_data))\n",
        "#pprint(test_data[:2])\n"
      ],
      "execution_count": 69,
      "outputs": [
        {
          "output_type": "stream",
          "text": [
            "train:  588 , dev:  196 , test:  196\n",
            "[{'aspects': ['status'],\n",
            "  'id': 'ajoneuvot00692',\n",
            "  'judgement': [['positive', 0.5], ['neutral', 0.5]],\n",
            "  'left context': 'Tämä . BMW provosoi tarpeettomiin ohituksiin . '\n",
            "                  'Liikennevaloissa lähtiessäkin on usein yhden hengen '\n",
            "                  'kiihdytyskisat pystyssä . ',\n",
            "  'right context': ' ratissa ei tarvitse katsella tätä , vaikka ajotyyli ja '\n",
            "                   'nopeus on samoja . Onko tämä sitä kateutta ?',\n",
            "  'target': 'Fordin'},\n",
            " {'aspects': ['mielipide', 'ulkonäkö', 'ulkonäkö'],\n",
            "  'id': 'ajoneuvot02481',\n",
            "  'judgement': 'mixed',\n",
            "  'left context': 'Vaikka uudet ',\n",
            "  'right context': ' ovat ihan mukavan näköisiä , on silti aika absurdia sanoa '\n",
            "                   'semmoisen olevan unelma - auto . Noh , kukin tavallaan .',\n",
            "  'target': 'skoda octavia rs : t'}]\n"
          ],
          "name": "stdout"
        }
      ]
    },
    {
      "cell_type": "markdown",
      "metadata": {
        "id": "pmpyR-HqNhis",
        "colab_type": "text"
      },
      "source": [
        "# Task II: analysis\n",
        "\n",
        "\n"
      ]
    },
    {
      "cell_type": "markdown",
      "metadata": {
        "id": "aTzENRAeLuna",
        "colab_type": "text"
      },
      "source": [
        "## inconsistencies and challenges in annotation"
      ]
    },
    {
      "cell_type": "markdown",
      "metadata": {
        "id": "4CRxbjkqLmmp",
        "colab_type": "text"
      },
      "source": [
        "## synonymous aspects"
      ]
    },
    {
      "cell_type": "code",
      "metadata": {
        "id": "H1O7mST3LsSZ",
        "colab_type": "code",
        "colab": {
          "base_uri": "https://localhost:8080/",
          "height": 51
        },
        "outputId": "949f8f33-1c26-49e9-999d-de5acd5905c8"
      },
      "source": [
        "# Let's list the aspects\n",
        "aspect_list =[] \n",
        "for item in data:\n",
        "    aspects = item['aspects']\n",
        "    if aspects[0] != '':\n",
        "        #print(aspects)\n",
        "        for aspect in aspects:\n",
        "            #print(aspect)\n",
        "            aspect_list.append(aspect)\n",
        "print(\"Aspects list length: \",len(aspect_list))\n",
        "\n",
        "# then let's get unique set from the list\n",
        "aspect_set = set()\n",
        "for aspect in aspect_list: #loops over sentences \n",
        "    aspect_set.add(aspect)\n",
        "print(\"Unique aspects set length: \",len(aspect_set))"
      ],
      "execution_count": 83,
      "outputs": [
        {
          "output_type": "stream",
          "text": [
            "Aspects list length:  1935\n",
            "Unique aspects set length:  461\n"
          ],
          "name": "stdout"
        }
      ]
    },
    {
      "cell_type": "code",
      "metadata": {
        "id": "zig7mAbCQ84h",
        "colab_type": "code",
        "colab": {}
      },
      "source": [
        "# Now we can start looking at the aspects and see which are synonymous\n",
        "!wget \n"
      ],
      "execution_count": 0,
      "outputs": []
    },
    {
      "cell_type": "markdown",
      "metadata": {
        "id": "Srb5BLghNhiK",
        "colab_type": "text"
      },
      "source": [
        "# Milestone III: : automatic sentiment detection (mandatory)\n",
        "\n",
        "Each project group will create an automatic sentiment detection system using the annotated data and a text classification method as taught on the course (for example a bag-of-words SVM, but you are free to choose any other classification method as well).\n",
        "\n",
        "The task setting is as follows: given target texts and their right and left contexts, assign each context to one of the sentiment classes (positive, negative, etc.). For example:\n",
        "\n",
        "Left context Target Right context Sentiment “Minun mielestäni” “Nordea” “on ihan hyvä pankki.” positive “Siirryin” “Op:sta” “pois sössimisten vuoksi.” negative\n",
        "\n",
        "The sentiment detection systems will be evaluated on a held-out portion of the annotated data in terms of their accuracy.\n",
        "\n",
        "We will provide each project group with data for training and evaluating the sentiment detection methods in a simple TSV format."
      ]
    }
  ]
}