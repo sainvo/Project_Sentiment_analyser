{
 "cells": [
  {
   "cell_type": "code",
   "execution_count": 14,
   "metadata": {},
   "outputs": [],
   "source": [
    "import re\n",
    "def segmented(text):\n",
    "    segmented = re.sub(r'([.,!?]+)',r' \\1', text)\n",
    "    segmented = re.sub(r\"(n't)\",r\" \\1\", segmented)\n",
    "    segmented = re.sub(r'(\\s[.!?])\\s+',r' \\1\\n', segmented)\n",
    "    segmented = [[t for t in sent.split()] for sent in segmented.split(\"\\n\")] \n",
    "    return segmented"
   ]
  },
  {
   "cell_type": "code",
   "execution_count": 15,
   "metadata": {},
   "outputs": [
    {
     "name": "stdout",
     "output_type": "stream",
     "text": [
      "[['We', 'trained', 'our', 'models', 'on', 'one', 'machine', 'with', '8', 'NVIDIA', 'P100', 'GPUs', '.'], ['For', 'our', 'base', 'models', 'using', 'the', 'hyperparameters', 'described', 'throughout', 'the', 'paper', ',', 'each', 'training', 'step', 'took', 'about', '0', '.4', 'seconds', '.'], ['We', 'trained', 'the', 'base', 'models', 'for', 'a', 'total', 'of', '100', ',000', 'steps', 'or', '12', 'hours', '.'], ['For', 'our', 'big', 'models', '(described', 'on', 'the', 'bottom', 'line', 'of', 'table', '3)', ',', 'step', 'time', 'was', '1', '.0', 'seconds', '.'], ['The', 'big', 'models', 'were', 'trained', 'for', '300', ',000', 'steps', '(3', '.5', 'days)', '.']]\n"
     ]
    }
   ],
   "source": [
    "sample = 'We trained our models on one machine with 8 NVIDIA P100 GPUs. For our base models using the hyperparameters described throughout the paper, each training step took about 0.4 seconds. We trained the base models for a total of 100,000 steps or 12 hours. For our big models (described on the bottom line of table 3), step time was 1.0 seconds. The big models were trained for 300,000 steps (3.5 days).'\n",
    "\n",
    "#segmented(sample)\n",
    "print(segmented(sample))"
   ]
  }
 ],
 "metadata": {
  "kernelspec": {
   "display_name": "Python 3",
   "language": "python",
   "name": "python3"
  },
  "language_info": {
   "codemirror_mode": {
    "name": "ipython",
    "version": 3
   },
   "file_extension": ".py",
   "mimetype": "text/x-python",
   "name": "python",
   "nbconvert_exporter": "python",
   "pygments_lexer": "ipython3",
   "version": "3.7.1"
  }
 },
 "nbformat": 4,
 "nbformat_minor": 2
}
